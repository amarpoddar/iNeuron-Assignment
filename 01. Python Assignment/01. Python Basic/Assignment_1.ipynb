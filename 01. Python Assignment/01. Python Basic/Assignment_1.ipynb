{
 "cells": [
  {
   "cell_type": "markdown",
   "metadata": {},
   "source": [
    "**1. What are the differences between operators and values in the following?**\n",
    "\n",
    "*\n",
    "\n",
    "'hello'\n",
    "\n",
    "-87.8\n",
    "\n",
    "-\n",
    "\n",
    "/\n",
    "\n",
    "+\n",
    "\n",
    "6\n",
    "\n"
   ]
  },
  {
   "cell_type": "markdown",
   "metadata": {},
   "source": [
    "---\n",
    "\n",
    "**Operators:** It is something that is used to perform opeartions on variables and values.\n",
    "- *\n",
    "- -\n",
    "- /\n",
    "- +\n",
    "\n",
    "**Values:** It is the actual value of the variable.\n",
    "- 'hello'\n",
    "- -87.8\n",
    "- 6\n"
   ]
  },
  {
   "cell_type": "code",
   "execution_count": null,
   "metadata": {},
   "outputs": [],
   "source": []
  },
  {
   "cell_type": "markdown",
   "metadata": {},
   "source": [
    "**2. What is the difference between string and variable?**\n",
    "\n",
    "spam\n",
    "\n",
    "'spam'"
   ]
  },
  {
   "cell_type": "markdown",
   "metadata": {},
   "source": [
    "---\n",
    "\n",
    "**String:** It is always written within single or double or tripple inverted commas.<br>\n",
    "'spam'\n",
    "\n",
    "**Variable:**It is like containers for storing data values and defined directly without any inverted commas.<br>\n",
    "spam"
   ]
  },
  {
   "cell_type": "code",
   "execution_count": null,
   "metadata": {},
   "outputs": [],
   "source": []
  },
  {
   "cell_type": "markdown",
   "metadata": {},
   "source": [
    "**3. Describe three different data forms.**"
   ]
  },
  {
   "cell_type": "markdown",
   "metadata": {},
   "source": [
    "---\n",
    "**Different Data Forms:**\n",
    "- Integer : For integer values like 100, -5, etc\n",
    "- Float : For floatig point values like 2.345600\n",
    "- Complex : For complex values like 2+5j\n",
    "- String : For string or char values like 'Hello', 'x'\n",
    "- Boolean : For boolean values like True or False"
   ]
  },
  {
   "cell_type": "markdown",
   "metadata": {},
   "source": [
    "**4. What makes up an expression? What are the functions of all expressions**\n",
    "\n",
    "---\n",
    "Expressions are nothing but values: it can be as simple string to complex expression of digits and operators.<br>\n",
    "Python has inbuilt **eval()** function which takes expression as input and gives the output as a result of expression."
   ]
  },
  {
   "cell_type": "code",
   "execution_count": null,
   "metadata": {},
   "outputs": [],
   "source": []
  },
  {
   "cell_type": "markdown",
   "metadata": {},
   "source": [
    "**5. In this chapter, assignment statements such as spam = 10 were added. What's the difference between a declaration and an expression?**\n",
    "\n",
    "---\n",
    "**Declaration** means binding data value to datatype i.e we are tightly binding the variable to int type means it can store only integer value. But declaration is not available in pyhton as it's datatype is binded to variable automatically during run time based on type of value/ expression.<br>\n",
    "**Expressions** are nothing but values: it can be as simple string to complex expression of digits and operators"
   ]
  },
  {
   "cell_type": "code",
   "execution_count": null,
   "metadata": {},
   "outputs": [],
   "source": []
  },
  {
   "cell_type": "markdown",
   "metadata": {},
   "source": [
    "**6. After running the following code, what does the variable bacon contain?**\n",
    "\n",
    "bacon = 22\n",
    "\n",
    "bacon + 1\n",
    "\n",
    "---\n",
    "Variable bacon will contain 23\n"
   ]
  },
  {
   "cell_type": "markdown",
   "metadata": {},
   "source": []
  },
  {
   "cell_type": "markdown",
   "metadata": {},
   "source": [
    "**7. What should the values of the following two terms be?**\n",
    "\n",
    "'spam' + 'spamspam'\n",
    "\n",
    "'spam' * 3\n",
    "\n"
   ]
  },
  {
   "cell_type": "markdown",
   "metadata": {},
   "source": [
    "---\n",
    "'spam' + 'spamspam will return: spamspamspam\n",
    "\n",
    "'spam'*3 will return: spamspamspam"
   ]
  },
  {
   "cell_type": "code",
   "execution_count": null,
   "metadata": {},
   "outputs": [],
   "source": []
  },
  {
   "cell_type": "markdown",
   "metadata": {},
   "source": [
    "**8. Why is it that eggs is a true variable name but 100 is not?**\n",
    "\n",
    "---\n",
    "It is because of the the identifier rules in python that variable name must always starts with Alphabet or underscore( _, if it is private variable) but not with digit. A varaiable starts with digit is always invalid."
   ]
  },
  {
   "cell_type": "code",
   "execution_count": null,
   "metadata": {},
   "outputs": [],
   "source": []
  },
  {
   "cell_type": "markdown",
   "metadata": {},
   "source": [
    "**9. Which of the following three functions may be used to convert a value to an integer, a floating-point number, or a string?**"
   ]
  },
  {
   "cell_type": "markdown",
   "metadata": {},
   "source": [
    "---\n",
    "Integer: int()\n",
    "\n",
    "Float: floatt()\n",
    "\n",
    "String: str()"
   ]
  },
  {
   "cell_type": "code",
   "execution_count": null,
   "metadata": {},
   "outputs": [],
   "source": []
  },
  {
   "cell_type": "markdown",
   "metadata": {},
   "source": [
    "**10. What is the error caused by this expression? What would you do about it?**\n",
    "\n",
    "'I have eaten ' + 99 + ' burritos.'\n"
   ]
  },
  {
   "cell_type": "markdown",
   "metadata": {},
   "source": [
    "---\n",
    "It is the error because of inappropriate concatenation of string and integer which is not allowed by python.<br>\n",
    "We can solve this error by two ways\n",
    "\n",
    "By converting 10 to string using str or using ' '\n",
    "\n",
    "- \"I have eaten\" + str(99) + \"burritos.\"\n",
    "\n",
    "or\n",
    "- \"I have eaten\" + \"99\" + \"burritos.\"\n",
    "\n",
    "By using string interpolation using ,\n",
    "\n",
    "- \"I have eaten\", 99, \"burritos.\""
   ]
  },
  {
   "cell_type": "code",
   "execution_count": 16,
   "metadata": {},
   "outputs": [
    {
     "name": "stdout",
     "output_type": "stream",
     "text": [
      "I have eaten 99 burritos.\n",
      "I have eaten 99 burritos.\n",
      "I have eaten 99 burritos.\n"
     ]
    }
   ],
   "source": [
    "print('I have eaten '+ str(99)+ ' burritos.')\n",
    "print('I have eaten '+ \"99\" + ' burritos.')\n",
    "print('I have eaten', 99, 'burritos.')"
   ]
  },
  {
   "cell_type": "code",
   "execution_count": null,
   "metadata": {},
   "outputs": [],
   "source": []
  }
 ],
 "metadata": {
  "kernelspec": {
   "display_name": "Python 3",
   "language": "python",
   "name": "python3"
  },
  "language_info": {
   "codemirror_mode": {
    "name": "ipython",
    "version": 3
   },
   "file_extension": ".py",
   "mimetype": "text/x-python",
   "name": "python",
   "nbconvert_exporter": "python",
   "pygments_lexer": "ipython3",
   "version": "3.8.5"
  }
 },
 "nbformat": 4,
 "nbformat_minor": 4
}
