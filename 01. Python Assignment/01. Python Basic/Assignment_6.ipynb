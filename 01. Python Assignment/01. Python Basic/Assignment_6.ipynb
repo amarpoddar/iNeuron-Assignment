{
 "cells": [
  {
   "cell_type": "markdown",
   "metadata": {},
   "source": [
    "**1. What are escape characters, and how do you use them?**<hr>\n",
    "An escape character is a backslash \\ followed by the character that we want to insert.\n",
    "Types of escape character in python are:\n",
    "\n",
    "\\\\' -\tSingle Quote\t\n",
    "\\\\\\ -\tBackslash\t\n",
    "\\n -    New Line\t\n",
    "\\r - \tCarriage Return\t\n",
    "\\t - \tTab\t\n",
    "\\b - \tBackspace\t\n",
    "\\f - \tForm Feed\t"
   ]
  },
  {
   "cell_type": "code",
   "execution_count": null,
   "metadata": {},
   "outputs": [],
   "source": []
  },
  {
   "cell_type": "markdown",
   "metadata": {},
   "source": [
    "**2. What do the escape characters n and t stand for?**<hr>\n",
    "n stands for **new line**\n",
    "\n",
    "t stands for **tab**"
   ]
  },
  {
   "cell_type": "code",
   "execution_count": null,
   "metadata": {},
   "outputs": [],
   "source": []
  },
  {
   "cell_type": "markdown",
   "metadata": {},
   "source": [
    "**3. What is the way to include backslash characters in a string?**<hr>\n",
    "we can insert \\ in a string by using \\\\\\ double backslash."
   ]
  },
  {
   "cell_type": "code",
   "execution_count": null,
   "metadata": {},
   "outputs": [],
   "source": []
  },
  {
   "cell_type": "markdown",
   "metadata": {},
   "source": [
    "**4. The string \"Howl's Moving Castle\" is a correct value. Why isn't the single quote character in the word Howl's not escaped a problem?** <hr>\n",
    "Because we are using double quote for the main string, so ' quote is considers as part of string. If we use single quote' ' for the main string then we need to use escape charecter for howl's."
   ]
  },
  {
   "cell_type": "code",
   "execution_count": null,
   "metadata": {},
   "outputs": [],
   "source": []
  },
  {
   "cell_type": "markdown",
   "metadata": {},
   "source": [
    "**5. How do you write a string of newlines if you don't want to use the n character?**<hr>\n",
    "We can import os module and use os.linesep. this will do the same job as that of \\n."
   ]
  },
  {
   "cell_type": "code",
   "execution_count": null,
   "metadata": {},
   "outputs": [],
   "source": []
  },
  {
   "cell_type": "markdown",
   "metadata": {},
   "source": [
    "**6. What are the values of the given expressions?**\n",
    "\n",
    "'Hello, world!'[1]\n",
    "\n",
    "'Hello, world!'[0:5]\n",
    "\n",
    "'Hello, world!'[:5]\n",
    "\n",
    "'Hello, world!'[3:]\n",
    "\n",
    "\n",
    "**solution**\n",
    "\n",
    "'Hello, world!'[1] => e\n",
    "\n",
    "'Hello, world!'[0:5] => Hello\n",
    "\n",
    "'Hello, world!'[:5] => Hello\n",
    "\n",
    "'Hello, world!'[3:] => lo, world!"
   ]
  },
  {
   "cell_type": "code",
   "execution_count": null,
   "metadata": {},
   "outputs": [],
   "source": []
  },
  {
   "cell_type": "markdown",
   "metadata": {},
   "source": [
    "**7. What are the values of the following expressions?**\n",
    "\n",
    "'Hello'.upper()  ==> it makes the string in upper case (HELLO)\n",
    "\n",
    "'Hello'.upper().isupper()  ==> True\n",
    "\n",
    "'Hello'.upper().lower()  ==> hello\n"
   ]
  },
  {
   "cell_type": "code",
   "execution_count": null,
   "metadata": {},
   "outputs": [],
   "source": []
  },
  {
   "cell_type": "markdown",
   "metadata": {},
   "source": [
    "**8. What are the values of the following expressions?**\n",
    "\n",
    "'Remember, remember, the fifth of July.'.split()\n",
    "\n",
    "'-'.join('There can only one.'.split())\n",
    "\n",
    "**solution**\n",
    "\n",
    "['Remember,', 'remember,', 'the', 'fifth', 'of', 'July']\n",
    "\n",
    "'There-can-only-one.'\n"
   ]
  },
  {
   "cell_type": "code",
   "execution_count": null,
   "metadata": {},
   "outputs": [],
   "source": []
  },
  {
   "cell_type": "markdown",
   "metadata": {},
   "source": [
    "**9. What are the methods for right-justifying, left-justifying, and centering a string?**<hr>\n",
    "\n",
    "- Right justifying ==> rjust()\n",
    "- Left justifying ==> ljust()\n",
    "- Center justifying ==> center()"
   ]
  },
  {
   "cell_type": "code",
   "execution_count": null,
   "metadata": {},
   "outputs": [],
   "source": []
  },
  {
   "cell_type": "markdown",
   "metadata": {},
   "source": [
    "**10. What is the best way to remove whitespace characters from the start or end?** <hr>\n",
    "We can use strip()"
   ]
  },
  {
   "cell_type": "code",
   "execution_count": null,
   "metadata": {},
   "outputs": [],
   "source": []
  }
 ],
 "metadata": {
  "kernelspec": {
   "display_name": "Python 3",
   "language": "python",
   "name": "python3"
  },
  "language_info": {
   "codemirror_mode": {
    "name": "ipython",
    "version": 3
   },
   "file_extension": ".py",
   "mimetype": "text/x-python",
   "name": "python",
   "nbconvert_exporter": "python",
   "pygments_lexer": "ipython3",
   "version": "3.8.5"
  }
 },
 "nbformat": 4,
 "nbformat_minor": 4
}
