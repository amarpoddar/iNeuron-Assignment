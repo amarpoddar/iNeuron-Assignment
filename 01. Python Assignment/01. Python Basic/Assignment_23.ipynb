{
 "cells": [
  {
   "cell_type": "markdown",
   "metadata": {},
   "source": [
    "**1. What is the result of the code, and why?**\n",
    "\n",
    "def func(a, b=6, c=8):\n",
    "\n",
    "    print(a, b, c)\n",
    "\n",
    "func(1, 2)\n"
   ]
  },
  {
   "cell_type": "code",
   "execution_count": 2,
   "metadata": {},
   "outputs": [
    {
     "name": "stdout",
     "output_type": "stream",
     "text": [
      "1 2 8\n"
     ]
    }
   ],
   "source": [
    "def func(a, b=6, c=8):\n",
    "    print(a, b, c)\n",
    "func(1, 2)"
   ]
  },
  {
   "cell_type": "markdown",
   "metadata": {},
   "source": [
    "The output is 1,2 and 8 because b & c are having default parameter, if no parameter is paased during function call for b and c then default value will be attached. If we pass the value during call then this value will be assigned to that."
   ]
  },
  {
   "cell_type": "code",
   "execution_count": null,
   "metadata": {},
   "outputs": [],
   "source": []
  },
  {
   "cell_type": "markdown",
   "metadata": {},
   "source": [
    "**2. What is the result of this code, and why?**\n",
    "\n",
    "def func(a, b, c=5):\n",
    "    \n",
    "    print(a, b, c)\n",
    "\n",
    "func(1, c=3, b=2)\n"
   ]
  },
  {
   "cell_type": "code",
   "execution_count": 3,
   "metadata": {},
   "outputs": [
    {
     "name": "stdout",
     "output_type": "stream",
     "text": [
      "1 2 3\n"
     ]
    }
   ],
   "source": [
    "def func(a, b, c=5):\n",
    "    print(a, b, c)\n",
    "    \n",
    "func(1, c=3, b=2)"
   ]
  },
  {
   "cell_type": "markdown",
   "metadata": {},
   "source": [
    "The output is 1,2 and 3 because c is having default parameter or positional argument, if no parameter is paased during function call c then default value will be attached. If we pass the value during call then this value will be assigned to that.\n",
    "For positional argument when we are calling by defining c=3, b=2, then in the function this value will be assigned to the parameter."
   ]
  },
  {
   "cell_type": "code",
   "execution_count": null,
   "metadata": {},
   "outputs": [],
   "source": []
  },
  {
   "cell_type": "markdown",
   "metadata": {},
   "source": [
    "**3. How about this code: what is its result, and why?**\n",
    "\n",
    "def func(a, *pargs):\n",
    "\n",
    "    print(a, pargs)\n",
    "\n",
    "func(1, 2, 3)\n"
   ]
  },
  {
   "cell_type": "code",
   "execution_count": 5,
   "metadata": {},
   "outputs": [
    {
     "name": "stdout",
     "output_type": "stream",
     "text": [
      "1 (2, 3)\n"
     ]
    }
   ],
   "source": [
    "def func(a, *pargs):\n",
    "    print(a, pargs)\n",
    "func(1, 2, 3)"
   ]
  },
  {
   "cell_type": "markdown",
   "metadata": {},
   "source": [
    "*pargs represents variable number of argument. So we can pass any number of argument here. But first argument is always assigned to a as this is first parameter here."
   ]
  },
  {
   "cell_type": "markdown",
   "metadata": {},
   "source": []
  },
  {
   "cell_type": "markdown",
   "metadata": {},
   "source": [
    "**4. What does this code print, and why?**\n",
    "\n",
    "def func(a, **kargs):\n",
    "    \n",
    "    print(a, kargs)\n",
    "func(a=1, c=3, b=2)\n"
   ]
  },
  {
   "cell_type": "code",
   "execution_count": 8,
   "metadata": {},
   "outputs": [
    {
     "name": "stdout",
     "output_type": "stream",
     "text": [
      "1 {'c': 3, 'b': 2}\n"
     ]
    }
   ],
   "source": [
    "def func(a, **kargs):\n",
    "    print(a, kargs)\n",
    "func(a=1, c=3, b=2)"
   ]
  },
  {
   "cell_type": "markdown",
   "metadata": {},
   "source": [
    "**kargs represents variable number of keyword argument. So we can pass any number of keyword argument here. But first argument is always assigned to a as this is first parameter here."
   ]
  },
  {
   "cell_type": "code",
   "execution_count": null,
   "metadata": {},
   "outputs": [],
   "source": []
  },
  {
   "cell_type": "markdown",
   "metadata": {},
   "source": [
    "**5. What gets printed by this, and explain?**\n",
    "\n",
    "def func(a, b, c=8, d=5):\n",
    "\n",
    "    print(a, b, c, d)\n",
    "\n",
    "func(1, *(5, 6))\n"
   ]
  },
  {
   "cell_type": "code",
   "execution_count": 10,
   "metadata": {},
   "outputs": [
    {
     "name": "stdout",
     "output_type": "stream",
     "text": [
      "1 5 6 5\n"
     ]
    }
   ],
   "source": [
    "def func(a, b, c=8, d=5):\n",
    "    print(a, b, c, d)\n",
    "func(1, *(5, 6))"
   ]
  },
  {
   "cell_type": "markdown",
   "metadata": {},
   "source": [
    "Here we are passing 1 as fixed value for a, but variable argument as *(5,6) this will get assigned to b and c respectively, and d as usual default parameter will be asssigned to d if we are not passing any fourth argument."
   ]
  },
  {
   "cell_type": "code",
   "execution_count": null,
   "metadata": {},
   "outputs": [],
   "source": []
  },
  {
   "cell_type": "markdown",
   "metadata": {},
   "source": [
    "**6. what is the result of this, and explain?**\n",
    "\n",
    "def func(a, b, c): \n",
    "\n",
    "    a = 2; \n",
    "    \n",
    "    b[0] = 'x'; \n",
    "    \n",
    "    c['a'] = 'y'\n",
    "\n",
    "\n",
    "l=1; m=[1]; n={'a':0}\n",
    "\n",
    "func(l, m, n)\n",
    "\n",
    "l, m, n\n"
   ]
  },
  {
   "cell_type": "code",
   "execution_count": 11,
   "metadata": {},
   "outputs": [
    {
     "data": {
      "text/plain": [
       "(1, ['x'], {'a': 'y'})"
      ]
     },
     "execution_count": 11,
     "metadata": {},
     "output_type": "execute_result"
    }
   ],
   "source": [
    "def func(a, b, c):\n",
    "    a = 2; \n",
    "    b[0] = 'x'; \n",
    "    c['a'] = 'y'\n",
    "    \n",
    "l=1;\n",
    "m=[1]; \n",
    "n={'a':0}\n",
    "\n",
    "func(l, m, n)\n",
    "\n",
    "l, m, n"
   ]
  },
  {
   "cell_type": "markdown",
   "metadata": {},
   "source": [
    "Since, we are passing l=1, m=[1] as list and n={'a':0} as dictionary to the func(a, b, c) as argument. So all these value got assigned and get updated as per logic implemented in func."
   ]
  },
  {
   "cell_type": "code",
   "execution_count": null,
   "metadata": {},
   "outputs": [],
   "source": []
  }
 ],
 "metadata": {
  "kernelspec": {
   "display_name": "Python 3",
   "language": "python",
   "name": "python3"
  },
  "language_info": {
   "codemirror_mode": {
    "name": "ipython",
    "version": 3
   },
   "file_extension": ".py",
   "mimetype": "text/x-python",
   "name": "python",
   "nbconvert_exporter": "python",
   "pygments_lexer": "ipython3",
   "version": "3.8.5"
  }
 },
 "nbformat": 4,
 "nbformat_minor": 4
}
