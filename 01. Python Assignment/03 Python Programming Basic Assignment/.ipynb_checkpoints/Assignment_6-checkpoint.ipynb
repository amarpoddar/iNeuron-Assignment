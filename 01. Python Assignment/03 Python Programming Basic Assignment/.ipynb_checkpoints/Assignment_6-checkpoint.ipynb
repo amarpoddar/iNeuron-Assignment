{
 "cells": [
  {
   "cell_type": "markdown",
   "metadata": {},
   "source": [
    "**1. Write a Python Program to Display Fibonacci Sequence Using Recursion?**"
   ]
  },
  {
   "cell_type": "code",
   "execution_count": 11,
   "metadata": {},
   "outputs": [
    {
     "name": "stdout",
     "output_type": "stream",
     "text": [
      "7\n",
      "Fibonacci sequence is:\n",
      "0\n",
      "1\n",
      "1\n",
      "2\n",
      "3\n",
      "5\n",
      "8\n"
     ]
    }
   ],
   "source": [
    "def fibonacci(n):\n",
    "    if n<=1:\n",
    "        return n\n",
    "    else:\n",
    "        return fibonacci(n-1) + fibonacci(n-2)\n",
    "    \n",
    "    \n",
    "n = int(input())\n",
    "if(n<1):\n",
    "    print(\"Please enter number greater than 0\")\n",
    "else:\n",
    "    print(\"Fibonacci sequence is:\")\n",
    "    for i in range(n):\n",
    "        print(fibonacci(i))\n",
    "    "
   ]
  },
  {
   "cell_type": "code",
   "execution_count": null,
   "metadata": {},
   "outputs": [],
   "source": []
  },
  {
   "cell_type": "markdown",
   "metadata": {},
   "source": [
    "**2. Write a Python Program to Find Factorial of Number Using Recursion?**"
   ]
  },
  {
   "cell_type": "code",
   "execution_count": 25,
   "metadata": {},
   "outputs": [
    {
     "name": "stdout",
     "output_type": "stream",
     "text": [
      "Enter a number positive number: 5\n",
      "Factorial of 5 is 120\n"
     ]
    }
   ],
   "source": [
    "def factorial(n):\n",
    "    if(n==0):\n",
    "        return 1\n",
    "    elif n==1:\n",
    "        return n\n",
    "    else:\n",
    "        return n * factorial(n-1)\n",
    "    \n",
    "n = int(input(\"Enter a number positive number: \"))\n",
    "if(n<0):\n",
    "    print(\"please enter positive number\")\n",
    "else:\n",
    "    print(\"Factorial of\",n,\"is\",factorial(n))"
   ]
  },
  {
   "cell_type": "code",
   "execution_count": null,
   "metadata": {},
   "outputs": [],
   "source": []
  },
  {
   "cell_type": "markdown",
   "metadata": {},
   "source": [
    "**3. Write a Python Program to calculate your Body Mass Index?**"
   ]
  },
  {
   "cell_type": "code",
   "execution_count": 37,
   "metadata": {},
   "outputs": [
    {
     "name": "stdout",
     "output_type": "stream",
     "text": [
      "Enter mass is KG 50\n",
      "Enter height in meter 1.72\n",
      "BMI of Weight 50 KG and height 1.72 m is 16.901027582477017\n"
     ]
    }
   ],
   "source": [
    "def calculate_bmi(mass, height):\n",
    "    if(mass<=0 or height<=0):\n",
    "        return -1\n",
    "    else:\n",
    "        bmi = mass/(height*height)\n",
    "        return bmi\n",
    "\n",
    "mass = int(input(\"Enter mass is KG \"))\n",
    "height = float(input(\"Enter height in meter \"))\n",
    "print(\"BMI of Weight\", mass,\"KG\", \"and height\",height,\"m\",\"is\", calculate_bmi(mass,height))"
   ]
  },
  {
   "cell_type": "code",
   "execution_count": null,
   "metadata": {},
   "outputs": [],
   "source": []
  },
  {
   "cell_type": "markdown",
   "metadata": {},
   "source": [
    "**4. Write a Python Program to calculate the natural logarithm of any number?**"
   ]
  },
  {
   "cell_type": "code",
   "execution_count": 38,
   "metadata": {},
   "outputs": [
    {
     "name": "stdout",
     "output_type": "stream",
     "text": [
      "Enter a number: 10\n",
      "Natural log of 10 is 2.302585092994046\n"
     ]
    }
   ],
   "source": [
    "import math\n",
    "def calculate_natural_log(n):\n",
    "    return math.log(n)\n",
    "    \n",
    "n = int(input(\"Enter a number: \"))\n",
    "print(\"Natural log of\",n,\"is\", calculate_natural_log(n))"
   ]
  },
  {
   "cell_type": "code",
   "execution_count": null,
   "metadata": {},
   "outputs": [],
   "source": []
  },
  {
   "cell_type": "markdown",
   "metadata": {},
   "source": [
    "**5. Write a Python Program for cube sum of first n natural numbers?**"
   ]
  },
  {
   "cell_type": "code",
   "execution_count": 40,
   "metadata": {},
   "outputs": [
    {
     "name": "stdout",
     "output_type": "stream",
     "text": [
      "Enter a number positive number: 3\n",
      "Cube sum of first 3 natural number is 36\n"
     ]
    }
   ],
   "source": [
    "def cube_sum(n):\n",
    "    s = 0\n",
    "    for i in range(1, n+1):\n",
    "        s = s + i**3\n",
    "    return s\n",
    "\n",
    "n = int(input(\"Enter a number positive number: \"))\n",
    "if(n<0):\n",
    "    print(\"please enter positive number\")\n",
    "else:\n",
    "    print(\"Cube sum of first\",n,\"natural number is\",cube_sum(n))"
   ]
  },
  {
   "cell_type": "code",
   "execution_count": null,
   "metadata": {},
   "outputs": [],
   "source": []
  }
 ],
 "metadata": {
  "kernelspec": {
   "display_name": "Python 3",
   "language": "python",
   "name": "python3"
  },
  "language_info": {
   "codemirror_mode": {
    "name": "ipython",
    "version": 3
   },
   "file_extension": ".py",
   "mimetype": "text/x-python",
   "name": "python",
   "nbconvert_exporter": "python",
   "pygments_lexer": "ipython3",
   "version": "3.8.5"
  }
 },
 "nbformat": 4,
 "nbformat_minor": 4
}
