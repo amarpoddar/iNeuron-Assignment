{
 "cells": [
  {
   "cell_type": "markdown",
   "metadata": {},
   "source": [
    "**1. Write a Python program to find sum of elements in list?**"
   ]
  },
  {
   "cell_type": "code",
   "execution_count": 3,
   "metadata": {},
   "outputs": [
    {
     "name": "stdout",
     "output_type": "stream",
     "text": [
      "Enter list of elements space separated: 1 2 3 4 5 6\n",
      "sum is: 21\n"
     ]
    }
   ],
   "source": [
    "def list_sum(list):\n",
    "    s = 0\n",
    "    for i in list:\n",
    "        s+=i\n",
    "    return s\n",
    "\n",
    "list= [int(x) for x in input(\"Enter list of elements space separated: \").split()]\n",
    "print(\"sum is:\",list_sum(list))"
   ]
  },
  {
   "cell_type": "code",
   "execution_count": null,
   "metadata": {},
   "outputs": [],
   "source": []
  },
  {
   "cell_type": "markdown",
   "metadata": {},
   "source": [
    "**2. Write a Python program to  Multiply all numbers in the list?**"
   ]
  },
  {
   "cell_type": "code",
   "execution_count": 6,
   "metadata": {},
   "outputs": [
    {
     "name": "stdout",
     "output_type": "stream",
     "text": [
      "Enter list of elements space separated: 2 3 4\n",
      "Multiplication of all elements in list is: 24\n"
     ]
    }
   ],
   "source": [
    "def list_multiply(list):\n",
    "    m = 1\n",
    "    for i in list:\n",
    "        m*=i\n",
    "    return m\n",
    "\n",
    "list= [int(x) for x in input(\"Enter list of elements space separated: \").split()]\n",
    "print(\"Multiplication of all elements in list is:\",list_multiply(list))"
   ]
  },
  {
   "cell_type": "code",
   "execution_count": null,
   "metadata": {},
   "outputs": [],
   "source": []
  },
  {
   "cell_type": "markdown",
   "metadata": {},
   "source": [
    "**3. Write a Python program to find smallest number in a list?**"
   ]
  },
  {
   "cell_type": "code",
   "execution_count": 7,
   "metadata": {},
   "outputs": [
    {
     "name": "stdout",
     "output_type": "stream",
     "text": [
      "Enter list of elements space separated: 12 2 5 6 8 4\n",
      "Smallest element in list is: 2\n"
     ]
    }
   ],
   "source": [
    "def find_smallest(list):\n",
    "    small = list[0]\n",
    "    for i in list:\n",
    "        if small > i:\n",
    "            small = i\n",
    "    return small\n",
    "\n",
    "list= [int(x) for x in input(\"Enter list of elements space separated: \").split()]\n",
    "print(\"Smallest element in list is:\",find_smallest(list))"
   ]
  },
  {
   "cell_type": "code",
   "execution_count": null,
   "metadata": {},
   "outputs": [],
   "source": []
  },
  {
   "cell_type": "markdown",
   "metadata": {},
   "source": [
    "**4. Write a Python program to find largest number in a list?**"
   ]
  },
  {
   "cell_type": "code",
   "execution_count": 8,
   "metadata": {},
   "outputs": [
    {
     "name": "stdout",
     "output_type": "stream",
     "text": [
      "Enter list of elements space separated: 2 1 5 6 8 7 12\n",
      "Largest element in list is: 12\n"
     ]
    }
   ],
   "source": [
    "def find_largest(list):\n",
    "    large = list[0]\n",
    "    for i in list:\n",
    "        if large < i:\n",
    "            large = i\n",
    "    return large\n",
    "\n",
    "list= [int(x) for x in input(\"Enter list of elements space separated: \").split()]\n",
    "print(\"Largest element in list is:\",find_largest(list))"
   ]
  },
  {
   "cell_type": "code",
   "execution_count": null,
   "metadata": {},
   "outputs": [],
   "source": []
  },
  {
   "cell_type": "markdown",
   "metadata": {},
   "source": [
    "**5. Write a Python program to find second largest number in a list?**"
   ]
  },
  {
   "cell_type": "code",
   "execution_count": 11,
   "metadata": {},
   "outputs": [
    {
     "name": "stdout",
     "output_type": "stream",
     "text": [
      "Enter list of elements space separated: 1 5 2 3 7 8 9 4\n",
      "Second largest element in list is: 8\n"
     ]
    }
   ],
   "source": [
    "def find_second_largest(list):\n",
    "    list.sort()\n",
    "    return list[-2]\n",
    "\n",
    "list= [int(x) for x in input(\"Enter list of elements space separated: \").split()]\n",
    "print(\"Second largest element in list is:\",find_second_largest(list))"
   ]
  },
  {
   "cell_type": "code",
   "execution_count": null,
   "metadata": {},
   "outputs": [],
   "source": []
  },
  {
   "cell_type": "markdown",
   "metadata": {},
   "source": [
    "**6. Write a Python program to find N largest elements from a list?**"
   ]
  },
  {
   "cell_type": "code",
   "execution_count": 13,
   "metadata": {},
   "outputs": [
    {
     "name": "stdout",
     "output_type": "stream",
     "text": [
      "Enter list of elements space separated: 1 2 3 4 5 6 7 8 9 10\n",
      "Enter the position to find largest number: 5\n",
      "5th largest element in list is: 6\n"
     ]
    }
   ],
   "source": [
    "def find_nth_largest(list, n):\n",
    "    list.sort()\n",
    "    return list[-n]\n",
    "\n",
    "list= [int(x) for x in input(\"Enter list of elements space separated: \").split()]\n",
    "n = int(input(\"Enter the position to find largest number: \"))\n",
    "print(str(n)+\"th largest element in list is:\",find_nth_largest(list, n))"
   ]
  },
  {
   "cell_type": "markdown",
   "metadata": {},
   "source": []
  },
  {
   "cell_type": "markdown",
   "metadata": {},
   "source": [
    "**7. Write a Python program to print even numbers in a list?**"
   ]
  },
  {
   "cell_type": "code",
   "execution_count": 16,
   "metadata": {},
   "outputs": [
    {
     "name": "stdout",
     "output_type": "stream",
     "text": [
      "Enter list of elements space separated: 2 3 4 5 6 7 8 9 10 12 14 15 17\n",
      "Even numbers in list: \n",
      "2\n",
      "4\n",
      "6\n",
      "8\n",
      "10\n",
      "12\n",
      "14\n"
     ]
    }
   ],
   "source": [
    "def is_even(list):\n",
    "    for i in list:\n",
    "        if i%2==0:\n",
    "            print(i)\n",
    " \n",
    "list= [int(x) for x in input(\"Enter list of elements space separated: \").split()]\n",
    "print(\"Even numbers in list: \")\n",
    "is_even(list)"
   ]
  },
  {
   "cell_type": "code",
   "execution_count": null,
   "metadata": {},
   "outputs": [],
   "source": []
  },
  {
   "cell_type": "markdown",
   "metadata": {},
   "source": [
    "**8. Write a Python program to print odd numbers in a List?**"
   ]
  },
  {
   "cell_type": "code",
   "execution_count": 17,
   "metadata": {},
   "outputs": [
    {
     "name": "stdout",
     "output_type": "stream",
     "text": [
      "Enter list of elements space separated: 1 2 3 4 5 6 7 8 9 10 11\n",
      "Odd numbers in list: \n",
      "1\n",
      "3\n",
      "5\n",
      "7\n",
      "9\n",
      "11\n"
     ]
    }
   ],
   "source": [
    "def is_odd(list):\n",
    "    for i in list:\n",
    "        if i%2!=0:\n",
    "            print(i)\n",
    " \n",
    "list= [int(x) for x in input(\"Enter list of elements space separated: \").split()]\n",
    "print(\"Odd numbers in list: \")\n",
    "is_odd(list)"
   ]
  },
  {
   "cell_type": "code",
   "execution_count": null,
   "metadata": {},
   "outputs": [],
   "source": []
  },
  {
   "cell_type": "markdown",
   "metadata": {},
   "source": [
    "**9. Write a Python program to Remove empty List from List?**"
   ]
  },
  {
   "cell_type": "code",
   "execution_count": 48,
   "metadata": {},
   "outputs": [
    {
     "name": "stdout",
     "output_type": "stream",
     "text": [
      "List after removing empty list: \n"
     ]
    },
    {
     "data": {
      "text/plain": [
       "[1, 2, 3, 4, 5]"
      ]
     },
     "execution_count": 48,
     "metadata": {},
     "output_type": "execute_result"
    }
   ],
   "source": [
    "def is_empty_list(list):\n",
    "    for i in list:\n",
    "        if i == []:\n",
    "            list.remove(i)      \n",
    "    return list\n",
    "\n",
    "list= [1, 2, 3,[], 4, [], 5]\n",
    "print(\"List after removing empty list: \")\n",
    "is_empty_list(list)"
   ]
  },
  {
   "cell_type": "code",
   "execution_count": null,
   "metadata": {},
   "outputs": [],
   "source": []
  },
  {
   "cell_type": "markdown",
   "metadata": {},
   "source": [
    "**10 Write a Python program to Cloning or Copying a list?**"
   ]
  },
  {
   "cell_type": "code",
   "execution_count": 52,
   "metadata": {},
   "outputs": [
    {
     "name": "stdout",
     "output_type": "stream",
     "text": [
      "copying a list using slice operator:\n",
      "Id of X: 2199069314048 Id of X1: 2199069362496\n",
      "copying a list using copy method:\n",
      "Id of X: 2199069314048 Id of X1: 2199069362496 Id of X2: 2199069240192\n"
     ]
    }
   ],
   "source": [
    "x = [1,2,3,4,5,6]\n",
    "print(\"copying a list using slice operator:\")\n",
    "x1 = x[:]\n",
    "print(\"Id of X:\",id(x), \"Id of X1:\",id(x1))\n",
    "\n",
    "print(\"copying a list using copy method:\")\n",
    "x2 = x.copy()\n",
    "print(\"Id of X:\",id(x), \"Id of X1:\",id(x1),\"Id of X2:\", id(x2))"
   ]
  },
  {
   "cell_type": "code",
   "execution_count": null,
   "metadata": {},
   "outputs": [],
   "source": []
  },
  {
   "cell_type": "markdown",
   "metadata": {},
   "source": [
    "**11. Write a Python program to Count occurrences of an element in a list?**"
   ]
  },
  {
   "cell_type": "code",
   "execution_count": 76,
   "metadata": {},
   "outputs": [
    {
     "name": "stdout",
     "output_type": "stream",
     "text": [
      " 1 occurs  2 times\n",
      " 2 occurs  3 times\n",
      " 3 occurs  2 times\n",
      " 4 occurs  3 times\n",
      " 5 occurs  2 times\n",
      " 7 occurs  2 times\n",
      " 8 occurs  1 times\n",
      " 0 occurs  1 times\n",
      " 6 occurs  1 times\n"
     ]
    }
   ],
   "source": [
    "l = [1,2,2,3,4,3,1,2,4,5,7,8,0,7,6,5,4]\n",
    "freq = {}\n",
    "for item in l:\n",
    "    if (item in freq):\n",
    "        freq[item] += 1\n",
    "    else:\n",
    "        freq[item] = 1\n",
    "    \n",
    "for key, value in freq.items():\n",
    "    print(\"% d occurs % d times\" % (key, value))"
   ]
  },
  {
   "cell_type": "code",
   "execution_count": null,
   "metadata": {},
   "outputs": [],
   "source": []
  }
 ],
 "metadata": {
  "kernelspec": {
   "display_name": "Python 3",
   "language": "python",
   "name": "python3"
  },
  "language_info": {
   "codemirror_mode": {
    "name": "ipython",
    "version": 3
   },
   "file_extension": ".py",
   "mimetype": "text/x-python",
   "name": "python",
   "nbconvert_exporter": "python",
   "pygments_lexer": "ipython3",
   "version": "3.8.5"
  }
 },
 "nbformat": 4,
 "nbformat_minor": 4
}
