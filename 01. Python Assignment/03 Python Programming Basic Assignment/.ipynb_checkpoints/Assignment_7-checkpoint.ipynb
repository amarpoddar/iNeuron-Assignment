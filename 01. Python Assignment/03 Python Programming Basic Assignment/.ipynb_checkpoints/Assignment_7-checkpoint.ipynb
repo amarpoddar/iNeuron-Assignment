{
 "cells": [
  {
   "cell_type": "markdown",
   "metadata": {},
   "source": [
    "**1. Write a Python Program to find sum of array?**"
   ]
  },
  {
   "cell_type": "code",
   "execution_count": 4,
   "metadata": {},
   "outputs": [
    {
     "name": "stdout",
     "output_type": "stream",
     "text": [
      "Enter elements of array space separated: 5 1 2 3 4 6\n",
      "Sum of array is: 21\n"
     ]
    }
   ],
   "source": [
    "def sum_of_array(array):\n",
    "    s = 0\n",
    "    for i in array:\n",
    "        s+=i\n",
    "    return s\n",
    "\n",
    "array = [int(x) for x in input(\"Enter elements of array space separated: \").split()]\n",
    "print(\"Sum of array is:\", sum_of_array(array))"
   ]
  },
  {
   "cell_type": "code",
   "execution_count": null,
   "metadata": {},
   "outputs": [],
   "source": []
  },
  {
   "cell_type": "markdown",
   "metadata": {},
   "source": [
    "**2. Write a Python Program to find largest element in an array?**"
   ]
  },
  {
   "cell_type": "code",
   "execution_count": 9,
   "metadata": {},
   "outputs": [
    {
     "name": "stdout",
     "output_type": "stream",
     "text": [
      "Enter elements of array space separated: 2 5 8 9 7 3 0 10\n",
      "Largest element in array is: 10\n"
     ]
    }
   ],
   "source": [
    "def calculate_max(array):\n",
    "    max = array[0]\n",
    "    for i in range(len(array)):\n",
    "        if max < array[i]:\n",
    "            max = array[i]\n",
    "    return max\n",
    "\n",
    "array = [int(x) for x in input(\"Enter elements of array space separated: \").split()]\n",
    "print(\"Largest element in array is:\", calculate_max(array))"
   ]
  },
  {
   "cell_type": "code",
   "execution_count": null,
   "metadata": {},
   "outputs": [],
   "source": []
  },
  {
   "cell_type": "markdown",
   "metadata": {},
   "source": [
    "**3. Write a Python Program for array rotation?**"
   ]
  },
  {
   "cell_type": "code",
   "execution_count": 12,
   "metadata": {},
   "outputs": [
    {
     "name": "stdout",
     "output_type": "stream",
     "text": [
      "Enter elements of array space separated: 4 5 6 8 7\n",
      "Enter by how many elements you want to rotate2\n",
      "Array after rotation is: [6, 8, 7, 4, 5]\n"
     ]
    }
   ],
   "source": [
    "def array_rotation(array, n, d):\n",
    "    array[:]=array[d:n]+array[0:d]\n",
    "    return array\n",
    "    \n",
    "    \n",
    "array = [int(x) for x in input(\"Enter elements of array space separated: \").split()]\n",
    "d = int(input(\"Enter by how many elements you want to rotate\"))\n",
    "print(\"Array after rotation is:\", array_rotation(array, len(array), d))\n",
    " "
   ]
  },
  {
   "cell_type": "code",
   "execution_count": null,
   "metadata": {},
   "outputs": [],
   "source": []
  },
  {
   "cell_type": "markdown",
   "metadata": {},
   "source": [
    "**4. Write a Python Program to Split the array and add the first part to the end?**"
   ]
  },
  {
   "cell_type": "code",
   "execution_count": 13,
   "metadata": {},
   "outputs": [
    {
     "name": "stdout",
     "output_type": "stream",
     "text": [
      "Enter elements of array space separated: 1 2 3 4 5 6 7 8\n",
      "Enter by how many elements you want to split4\n",
      "Array after rotation is: [5, 6, 7, 8, 1, 2, 3, 4]\n"
     ]
    }
   ],
   "source": [
    "def array_split(array, n, d):\n",
    "    array[:]=array[d:n]+array[0:d]\n",
    "    return array\n",
    "    \n",
    "    \n",
    "array = [int(x) for x in input(\"Enter elements of array space separated: \").split()]\n",
    "d = int(input(\"Enter by how many elements you want to split\"))\n",
    "print(\"Array after rotation is:\", array_split(array, len(array), d))"
   ]
  },
  {
   "cell_type": "code",
   "execution_count": null,
   "metadata": {},
   "outputs": [],
   "source": []
  },
  {
   "cell_type": "markdown",
   "metadata": {},
   "source": [
    "**5. Write a Python Program to check if given array is Monotonic?**"
   ]
  },
  {
   "cell_type": "code",
   "execution_count": 26,
   "metadata": {},
   "outputs": [
    {
     "name": "stdout",
     "output_type": "stream",
     "text": [
      "Enter elements of array space separated: 1 2 3 5 7 9 8 1\n",
      "Given array is monotonic: False\n"
     ]
    }
   ],
   "source": [
    "def is_monotonic(array):\n",
    "    counterA = 0\n",
    "    counterB = 0\n",
    "    for i in range(len(array)-1):\n",
    "        if (array[i]<= array[i+1]):\n",
    "            counterA+=1\n",
    "        elif (array[i]>= array[i+1]):\n",
    "            counterB+=1\n",
    "    \n",
    "    if(counterA==len(array)-1) or (counterB==len(array)-1):\n",
    "        return True\n",
    "    else:\n",
    "        return False\n",
    "    \n",
    "array = [int(x) for x in input(\"Enter elements of array space separated: \").split()]\n",
    "print(\"Given array is monotonic:\", is_monotonic(array))"
   ]
  },
  {
   "cell_type": "code",
   "execution_count": null,
   "metadata": {},
   "outputs": [],
   "source": []
  }
 ],
 "metadata": {
  "kernelspec": {
   "display_name": "Python 3",
   "language": "python",
   "name": "python3"
  },
  "language_info": {
   "codemirror_mode": {
    "name": "ipython",
    "version": 3
   },
   "file_extension": ".py",
   "mimetype": "text/x-python",
   "name": "python",
   "nbconvert_exporter": "python",
   "pygments_lexer": "ipython3",
   "version": "3.8.5"
  }
 },
 "nbformat": 4,
 "nbformat_minor": 4
}
