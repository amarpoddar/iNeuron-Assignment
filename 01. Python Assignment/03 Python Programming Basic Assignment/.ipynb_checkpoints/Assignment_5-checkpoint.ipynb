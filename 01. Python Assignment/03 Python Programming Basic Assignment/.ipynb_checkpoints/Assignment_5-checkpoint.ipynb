{
 "cells": [
  {
   "cell_type": "markdown",
   "metadata": {},
   "source": [
    "**1. Write a Python Program to Find LCM?**"
   ]
  },
  {
   "cell_type": "code",
   "execution_count": 14,
   "metadata": {},
   "outputs": [
    {
     "name": "stdout",
     "output_type": "stream",
     "text": [
      "Enter first number:4\n",
      "Enter second number:6\n",
      "LCM of 4 and 6 is 12\n"
     ]
    }
   ],
   "source": [
    "def lcm(n1, n2):\n",
    "    greater = n1 if n1>n2 else n2\n",
    "    for i in range(greater, (n1*n2)+1):\n",
    "        if(i % n1 == 0 and i % n2 == 0):\n",
    "            break\n",
    "    return i\n",
    "            \n",
    "        \n",
    "    \n",
    "n1 = int(input(\"Enter first number:\"))\n",
    "n2 = int(input(\"Enter second number:\"))\n",
    "print(\"LCM of\",n1,\"and\",n2,\"is\",lcm(n1,n2))"
   ]
  },
  {
   "cell_type": "code",
   "execution_count": null,
   "metadata": {},
   "outputs": [],
   "source": []
  },
  {
   "cell_type": "markdown",
   "metadata": {},
   "source": [
    "**2. Write a Python Program to Find HCF?**"
   ]
  },
  {
   "cell_type": "code",
   "execution_count": 24,
   "metadata": {},
   "outputs": [
    {
     "name": "stdout",
     "output_type": "stream",
     "text": [
      "Enter first number:24\n",
      "Enter second number:36\n",
      "HCF of 24 and 36 is 12\n"
     ]
    }
   ],
   "source": [
    "def hcf(n1, n2):\n",
    "    lower = n1 if n1<n2 else n2\n",
    "    for i in range(lower,1, -1):\n",
    "        if(n1%i==0 and n2%i==0):\n",
    "            break\n",
    "    return i\n",
    "\n",
    "\n",
    "n1 = int(input(\"Enter first number:\"))\n",
    "n2 = int(input(\"Enter second number:\"))\n",
    "print(\"HCF of\",n1,\"and\",n2,\"is\",hcf(n1,n2))"
   ]
  },
  {
   "cell_type": "code",
   "execution_count": null,
   "metadata": {},
   "outputs": [],
   "source": []
  },
  {
   "cell_type": "markdown",
   "metadata": {},
   "source": [
    "**3. Write a Python Program to Convert Decimal to Binary, Octal and Hexadecimal?**"
   ]
  },
  {
   "cell_type": "code",
   "execution_count": 26,
   "metadata": {},
   "outputs": [
    {
     "name": "stdout",
     "output_type": "stream",
     "text": [
      "Enter decimal number11\n",
      "11 in Binary is 0b1011\n",
      "11 in Octal is 0o13\n",
      "11 in Hexadecimal is 0xb\n"
     ]
    }
   ],
   "source": [
    "def conversion(n):\n",
    "    b = bin(n)\n",
    "    o = oct(n)\n",
    "    h = hex(n)\n",
    "    print(n,\"in Binary is\",b)\n",
    "    print(n,\"in Octal is\",o)\n",
    "    print(n,\"in Hexadecimal is\",h)\n",
    "    \n",
    "n = int(input(\"Enter decimal number\"))\n",
    "conversion(n)"
   ]
  },
  {
   "cell_type": "code",
   "execution_count": null,
   "metadata": {},
   "outputs": [],
   "source": []
  },
  {
   "cell_type": "markdown",
   "metadata": {},
   "source": [
    "**4. Write a Python Program To Find ASCII value of a character?**"
   ]
  },
  {
   "cell_type": "code",
   "execution_count": 29,
   "metadata": {},
   "outputs": [
    {
     "name": "stdout",
     "output_type": "stream",
     "text": [
      "Enter a character to find ASCII valueA\n",
      "ASCII value of A is 65\n"
     ]
    }
   ],
   "source": [
    "def find_ascii(string):\n",
    "    a = ord(string)\n",
    "    print(\"ASCII value of\",string,\"is\",a)\n",
    "    \n",
    "s = input(\"Enter a character to find ASCII value\")\n",
    "find_ascii(s)"
   ]
  },
  {
   "cell_type": "code",
   "execution_count": null,
   "metadata": {},
   "outputs": [],
   "source": []
  },
  {
   "cell_type": "markdown",
   "metadata": {},
   "source": [
    "**5. Write a Python Program to Make a Simple Calculator with 4 basic mathematical operations?**"
   ]
  },
  {
   "cell_type": "code",
   "execution_count": 51,
   "metadata": {},
   "outputs": [
    {
     "name": "stdout",
     "output_type": "stream",
     "text": [
      "Enter first Number8\n",
      "Enter second Number4\n",
      "\n",
      "Addition of 8 and 4 is 12\n",
      "Subtraction of 8 and 4 is 4\n",
      "Multiplication of 8 and 4 is 32\n",
      "Division of 8 and 4 is 2.0\n"
     ]
    }
   ],
   "source": [
    "class Calculator:\n",
    "    def __init__(self, a,b):\n",
    "        self.a = a\n",
    "        self.b = b\n",
    "    def add(self):\n",
    "        return self.a + self.b\n",
    "    \n",
    "    def subtract(self):\n",
    "        return self.a - self.b\n",
    "    \n",
    "    def multiply(self):\n",
    "        return self.a * self.b\n",
    "    \n",
    "    def divide(self):\n",
    "        return self.a / self.b\n",
    "    \n",
    "\n",
    "a = int(input(\"Enter first Number\"))\n",
    "b = int(input(\"Enter second Number\"))\n",
    "print()\n",
    "calculator = Calculator(a, b)\n",
    "print(\"Addition of\",a,\"and\",b,\"is\",calculator.add())\n",
    "print(\"Subtraction of\",a,\"and\",b,\"is\",calculator.subtract())\n",
    "print(\"Multiplication of\",a,\"and\",b,\"is\",calculator.multiply())\n",
    "print(\"Division of\",a,\"and\",b,\"is\",calculator.divide())"
   ]
  },
  {
   "cell_type": "code",
   "execution_count": null,
   "metadata": {},
   "outputs": [],
   "source": []
  },
  {
   "cell_type": "code",
   "execution_count": null,
   "metadata": {},
   "outputs": [],
   "source": []
  }
 ],
 "metadata": {
  "kernelspec": {
   "display_name": "Python 3",
   "language": "python",
   "name": "python3"
  },
  "language_info": {
   "codemirror_mode": {
    "name": "ipython",
    "version": 3
   },
   "file_extension": ".py",
   "mimetype": "text/x-python",
   "name": "python",
   "nbconvert_exporter": "python",
   "pygments_lexer": "ipython3",
   "version": "3.8.5"
  }
 },
 "nbformat": 4,
 "nbformat_minor": 4
}
