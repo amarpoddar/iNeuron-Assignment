{
 "cells": [
  {
   "cell_type": "markdown",
   "metadata": {},
   "source": [
    "**1. Write a Python Program to Find the Factorial of a Number?**"
   ]
  },
  {
   "cell_type": "code",
   "execution_count": 1,
   "metadata": {},
   "outputs": [
    {
     "name": "stdout",
     "output_type": "stream",
     "text": [
      "5\n",
      "factorial of 5 is 120\n"
     ]
    }
   ],
   "source": [
    "def factorial(n):\n",
    "    fact = 1\n",
    "    for i in range(1, n+1):\n",
    "        fact = fact * i\n",
    "    return fact\n",
    "\n",
    "n = int(input())\n",
    "print(\"factorial of\",n, \"is\",factorial(n))"
   ]
  },
  {
   "cell_type": "code",
   "execution_count": null,
   "metadata": {},
   "outputs": [],
   "source": []
  },
  {
   "cell_type": "markdown",
   "metadata": {},
   "source": [
    "**2.Write a Python Program to Display the multiplication Table?**"
   ]
  },
  {
   "cell_type": "code",
   "execution_count": 2,
   "metadata": {},
   "outputs": [
    {
     "name": "stdout",
     "output_type": "stream",
     "text": [
      "5\n",
      "table of 5\n",
      "5 * 1 = 5\n",
      "5 * 2 = 10\n",
      "5 * 3 = 15\n",
      "5 * 4 = 20\n",
      "5 * 5 = 25\n",
      "5 * 6 = 30\n",
      "5 * 7 = 35\n",
      "5 * 8 = 40\n",
      "5 * 9 = 45\n",
      "5 * 10 = 50\n"
     ]
    }
   ],
   "source": [
    "def table(n):\n",
    "    for i in range(1, 11):\n",
    "        print(n, '*', i,'=',n*i)\n",
    "n = int(input())\n",
    "print(\"table of\",n)\n",
    "table(n)\n"
   ]
  },
  {
   "cell_type": "code",
   "execution_count": null,
   "metadata": {},
   "outputs": [],
   "source": []
  },
  {
   "cell_type": "markdown",
   "metadata": {},
   "source": [
    "**3. Write a Python Program to Print the Fibonacci sequence?**"
   ]
  },
  {
   "cell_type": "code",
   "execution_count": 3,
   "metadata": {},
   "outputs": [
    {
     "name": "stdout",
     "output_type": "stream",
     "text": [
      "7\n",
      "Fibonacci of 7\n",
      "0\n",
      "1\n",
      "1\n",
      "2\n",
      "3\n",
      "5\n",
      "8\n"
     ]
    }
   ],
   "source": [
    "def fibonacci(n):\n",
    "    a, b = -1, 1\n",
    "    for i in range(1, n+1):\n",
    "        c = a + b\n",
    "        a = b\n",
    "        b = c\n",
    "        print(c)\n",
    "n = int(input())\n",
    "print(\"Fibonacci of\",n)\n",
    "fibonacci(n)"
   ]
  },
  {
   "cell_type": "code",
   "execution_count": null,
   "metadata": {},
   "outputs": [],
   "source": []
  },
  {
   "cell_type": "markdown",
   "metadata": {},
   "source": [
    "**4. Write a Python Program to Check Armstrong Number?**"
   ]
  },
  {
   "cell_type": "code",
   "execution_count": 37,
   "metadata": {},
   "outputs": [
    {
     "name": "stdout",
     "output_type": "stream",
     "text": [
      "153\n",
      "153  is Armstrong\n"
     ]
    }
   ],
   "source": [
    "def is_armstrong(n):\n",
    "    s = 0\n",
    "    temp = n\n",
    "    while(temp>0):\n",
    "        r = temp%10\n",
    "        s = s+r**3\n",
    "        temp = temp//10\n",
    "    if(s == n):\n",
    "        print(n,\" is Armstrong\")\n",
    "    else:\n",
    "        print(n,\" is not Armstrong\")\n",
    "        \n",
    "n = int(input())\n",
    "is_armstrong(n)"
   ]
  },
  {
   "cell_type": "code",
   "execution_count": null,
   "metadata": {},
   "outputs": [],
   "source": []
  },
  {
   "cell_type": "markdown",
   "metadata": {},
   "source": [
    "**5. Write a Python Program to Find Armstrong Number in an Interval?**"
   ]
  },
  {
   "cell_type": "code",
   "execution_count": 11,
   "metadata": {},
   "outputs": [
    {
     "name": "stdout",
     "output_type": "stream",
     "text": [
      "1\n",
      "500\n",
      "Armstrong number between 1 and 500\n",
      "1\n",
      "153\n",
      "370\n",
      "371\n",
      "407\n"
     ]
    }
   ],
   "source": [
    "def armstrong_series(first, last):\n",
    "    if(first<=0 or last < 0):\n",
    "        print(\"first or last can't be negative or 0\")\n",
    "    else:\n",
    "        for i in range(first, last+1):\n",
    "            temp = i\n",
    "            s = 0\n",
    "            while(temp>0):\n",
    "                r = temp%10\n",
    "                s = s+r**3\n",
    "                temp = temp//10\n",
    "            if(s == i):\n",
    "                print(i)\n",
    "        \n",
    "first = int(input())\n",
    "last = int(input())\n",
    "print(\"Armstrong number between\", first,\"and\",last)\n",
    "armstrong_series(first, last)"
   ]
  },
  {
   "cell_type": "code",
   "execution_count": null,
   "metadata": {},
   "outputs": [],
   "source": []
  },
  {
   "cell_type": "markdown",
   "metadata": {},
   "source": [
    "**6. Write a Python Program to Find the Sum of Natural Numbers?**"
   ]
  },
  {
   "cell_type": "code",
   "execution_count": 15,
   "metadata": {},
   "outputs": [
    {
     "name": "stdout",
     "output_type": "stream",
     "text": [
      "6\n",
      "sum of first 6 natural number is 21\n"
     ]
    }
   ],
   "source": [
    "def sum_natural(n):\n",
    "    if(n<1):\n",
    "        print(\"number can't be less than 1\")\n",
    "    else:\n",
    "        s = 0\n",
    "        for i in range(1, n+1):\n",
    "            s+=i\n",
    "        return s\n",
    "n = int(input())\n",
    "print(\"sum of first\",n,\"natural number is\",sum_natural(n))"
   ]
  },
  {
   "cell_type": "code",
   "execution_count": null,
   "metadata": {},
   "outputs": [],
   "source": []
  }
 ],
 "metadata": {
  "kernelspec": {
   "display_name": "Python 3",
   "language": "python",
   "name": "python3"
  },
  "language_info": {
   "codemirror_mode": {
    "name": "ipython",
    "version": 3
   },
   "file_extension": ".py",
   "mimetype": "text/x-python",
   "name": "python",
   "nbconvert_exporter": "python",
   "pygments_lexer": "ipython3",
   "version": "3.8.5"
  }
 },
 "nbformat": 4,
 "nbformat_minor": 4
}
