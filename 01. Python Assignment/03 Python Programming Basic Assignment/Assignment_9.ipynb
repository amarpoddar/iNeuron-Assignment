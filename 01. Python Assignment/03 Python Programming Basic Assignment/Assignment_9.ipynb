{
 "cells": [
  {
   "cell_type": "markdown",
   "metadata": {},
   "source": [
    "**1. Write a Python program to check if the given number is a Disarium Number?**"
   ]
  },
  {
   "cell_type": "code",
   "execution_count": 2,
   "metadata": {},
   "outputs": [
    {
     "name": "stdout",
     "output_type": "stream",
     "text": [
      "Enter number 89\n",
      "89 is disarium\n"
     ]
    }
   ],
   "source": [
    "def is_disarium(num):\n",
    "    temp = num\n",
    "    s = 0\n",
    "    count = len(str(num))\n",
    "    while(temp>0):\n",
    "        r = temp%10\n",
    "        temp = temp//10\n",
    "        s = r**count + s\n",
    "        count = count - 1\n",
    "        \n",
    "        \n",
    "    return s\n",
    "\n",
    "n = int(input(\"Enter number \"))\n",
    "disarium = is_disarium(n)\n",
    "if n == disarium:\n",
    "    print(n,\"is disarium\")\n",
    "else:\n",
    "    print(n, \"is not disarium\")\n",
    "        "
   ]
  },
  {
   "cell_type": "code",
   "execution_count": null,
   "metadata": {},
   "outputs": [],
   "source": []
  },
  {
   "cell_type": "markdown",
   "metadata": {},
   "source": [
    "**2. Write a Python program to print all disarium numbers between 1 to 100?**"
   ]
  },
  {
   "cell_type": "code",
   "execution_count": 17,
   "metadata": {},
   "outputs": [
    {
     "name": "stdout",
     "output_type": "stream",
     "text": [
      "Disarium numbers between 1 and 100: \n",
      "1\n",
      "2\n",
      "3\n",
      "4\n",
      "5\n",
      "6\n",
      "7\n",
      "8\n",
      "9\n",
      "89\n"
     ]
    }
   ],
   "source": [
    "print(\"Disarium numbers between 1 and 100:\")   \n",
    "for i in range(1, 101):\n",
    "    temp = i\n",
    "    s = 0\n",
    "    count = len(str(i))\n",
    "    while(temp>0):\n",
    "        r = temp%10\n",
    "        temp = temp//10\n",
    "        s = r**count + s\n",
    "        count = count - 1\n",
    "    if s == i:\n",
    "        print(i)"
   ]
  },
  {
   "cell_type": "code",
   "execution_count": null,
   "metadata": {},
   "outputs": [],
   "source": []
  },
  {
   "cell_type": "markdown",
   "metadata": {},
   "source": [
    "**3. Write a Python program to check if the given number is Happy Number?**"
   ]
  },
  {
   "cell_type": "code",
   "execution_count": 5,
   "metadata": {},
   "outputs": [
    {
     "name": "stdout",
     "output_type": "stream",
     "text": [
      "Enter number 86\n",
      "86  is happy number\n"
     ]
    }
   ],
   "source": [
    "def is_happy_number(num):\n",
    "    temp = num\n",
    "    s, r = 0, 0\n",
    "    while(temp>0):\n",
    "        r = temp%10\n",
    "        s = s + r**2\n",
    "        temp = temp//10\n",
    "    return s\n",
    "\n",
    "\n",
    "num = int(input(\"Enter number \"))\n",
    "result = num\n",
    "while(result != 1 and result != 4):    \n",
    "    result = is_happy_number(result)  \n",
    "    \n",
    "if(result == 1):    \n",
    "    print(num, \" is happy number\")   \n",
    "elif(result == 4):    \n",
    "    print(num, \" is not happy number\")\n",
    "    "
   ]
  },
  {
   "cell_type": "code",
   "execution_count": null,
   "metadata": {},
   "outputs": [],
   "source": []
  },
  {
   "cell_type": "markdown",
   "metadata": {},
   "source": [
    "**4. Write a Python program to print all happy numbers between 1 and 100?**"
   ]
  },
  {
   "cell_type": "code",
   "execution_count": 16,
   "metadata": {},
   "outputs": [
    {
     "name": "stdout",
     "output_type": "stream",
     "text": [
      "Happy numbers between 1 and 100: \n",
      "1\n",
      "7\n",
      "10\n",
      "13\n",
      "19\n",
      "23\n",
      "28\n",
      "31\n",
      "32\n",
      "44\n",
      "49\n",
      "68\n",
      "70\n",
      "79\n",
      "82\n",
      "86\n",
      "91\n",
      "94\n",
      "97\n",
      "100\n"
     ]
    }
   ],
   "source": [
    "def is_happy_number(num):\n",
    "    temp = num\n",
    "    s, r = 0, 0\n",
    "    while(temp>0):\n",
    "        r = temp%10\n",
    "        s = s + r**2\n",
    "        temp = temp//10\n",
    "    return s\n",
    "\n",
    "\n",
    "print(\"Happy numbers between 1 and 100:\")   \n",
    "for i in range(1, 101):\n",
    "    output = i\n",
    "    while(output != 1 and output != 4):    \n",
    "        output = is_happy_number(output)  \n",
    "    \n",
    "    if(output == 1):\n",
    "        print(i)   "
   ]
  },
  {
   "cell_type": "code",
   "execution_count": null,
   "metadata": {},
   "outputs": [],
   "source": []
  },
  {
   "cell_type": "markdown",
   "metadata": {},
   "source": [
    "**5. Write a Python program to determine whether the given number is a Harshad Number?**"
   ]
  },
  {
   "cell_type": "code",
   "execution_count": 15,
   "metadata": {},
   "outputs": [
    {
     "name": "stdout",
     "output_type": "stream",
     "text": [
      "Enter number 15\n",
      "15 is not harshad\n"
     ]
    }
   ],
   "source": [
    "def is_harshad(num):\n",
    "    temp = num\n",
    "    s, r = 0, 0\n",
    "    while(temp>0):\n",
    "        r = temp%10\n",
    "        s = s + r\n",
    "        temp = temp//10\n",
    "    return s\n",
    "\n",
    "\n",
    "num = int(input(\"Enter number \"))\n",
    "harshad = is_harshad(num)\n",
    "if (num%harshad == 0):\n",
    "    print(num,\"is harshad\")\n",
    "else:\n",
    "    print(num, \"is not harshad\")"
   ]
  },
  {
   "cell_type": "code",
   "execution_count": null,
   "metadata": {},
   "outputs": [],
   "source": []
  },
  {
   "cell_type": "markdown",
   "metadata": {},
   "source": [
    "**6. Write a Python program to print all pronic numbers between 1 and 100?**"
   ]
  },
  {
   "cell_type": "code",
   "execution_count": 18,
   "metadata": {},
   "outputs": [
    {
     "name": "stdout",
     "output_type": "stream",
     "text": [
      "Pronic numbers between 1 and 100:\n",
      "2\n",
      "6\n",
      "12\n",
      "20\n",
      "30\n",
      "42\n",
      "56\n",
      "72\n",
      "90\n"
     ]
    }
   ],
   "source": [
    "def is_pronic_number(num):    \n",
    "    flag = False;        \n",
    "    for i in range(1, num + 1):    \n",
    "        if((i * (i + 1)) == num):    \n",
    "            flag = True;    \n",
    "            break;    \n",
    "    return flag;    \n",
    "\n",
    "print(\"Pronic numbers between 1 and 100:\")   \n",
    "for i in range(1, 101):    \n",
    "    if(is_pronic_number(i)):    \n",
    "        print(i)  "
   ]
  },
  {
   "cell_type": "code",
   "execution_count": null,
   "metadata": {},
   "outputs": [],
   "source": []
  }
 ],
 "metadata": {
  "kernelspec": {
   "display_name": "Python 3",
   "language": "python",
   "name": "python3"
  },
  "language_info": {
   "codemirror_mode": {
    "name": "ipython",
    "version": 3
   },
   "file_extension": ".py",
   "mimetype": "text/x-python",
   "name": "python",
   "nbconvert_exporter": "python",
   "pygments_lexer": "ipython3",
   "version": "3.8.5"
  }
 },
 "nbformat": 4,
 "nbformat_minor": 4
}
