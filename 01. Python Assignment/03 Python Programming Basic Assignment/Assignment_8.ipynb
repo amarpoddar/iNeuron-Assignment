{
 "cells": [
  {
   "cell_type": "markdown",
   "metadata": {},
   "source": [
    "**1. Write a Python Program to Add Two Matrices?**"
   ]
  },
  {
   "cell_type": "code",
   "execution_count": 3,
   "metadata": {},
   "outputs": [
    {
     "name": "stdout",
     "output_type": "stream",
     "text": [
      "[1, 4, 8]\n",
      "[80, 50, 14]\n",
      "[14, 42, 76]\n"
     ]
    }
   ],
   "source": [
    "A = [[1,2,3],\n",
    "    [4 ,5,6],\n",
    "    [7 ,8,9]]\n",
    "\n",
    "B = [[0,2,5],\n",
    "    [76,45,8],\n",
    "    [7,34,67]]\n",
    "\n",
    "C = [[0,0,0],\n",
    "    [0,0,0],\n",
    "    [0,0,0]]\n",
    "\n",
    "for i in range(len(A)):\n",
    "    for j in range(len(A[0])):\n",
    "        C[i][j] = A[i][j] + B[i][j]\n",
    "\n",
    "for ans in C:\n",
    "    print(ans)"
   ]
  },
  {
   "cell_type": "code",
   "execution_count": null,
   "metadata": {},
   "outputs": [],
   "source": []
  },
  {
   "cell_type": "markdown",
   "metadata": {},
   "source": [
    "**2. Write a Python Program to Multiply Two Matrices?**"
   ]
  },
  {
   "cell_type": "code",
   "execution_count": 7,
   "metadata": {},
   "outputs": [
    {
     "name": "stdout",
     "output_type": "stream",
     "text": [
      "[33, 21, 42]\n",
      "[72, 51, 102]\n",
      "[111, 81, 162]\n"
     ]
    }
   ],
   "source": [
    "A = [[1,2,3],\n",
    "    [4 ,5,6],\n",
    "    [7 ,8,9]]\n",
    "\n",
    "B = [[0,2,5],\n",
    "    [6,5,8],\n",
    "    [7,3,7]]\n",
    "\n",
    "C = [[0,0,0],\n",
    "    [0,0,0],\n",
    "    [0,0,0]]\n",
    "  \n",
    "\n",
    "for i in range(len(A)):\n",
    "    for j in range(len(B[0])):\n",
    "        for k in range(len(B)):\n",
    "            C[i][j] += A[i][k] * B[k][j]\n",
    "\n",
    "for ans in C:\n",
    "    print(ans)"
   ]
  },
  {
   "cell_type": "markdown",
   "metadata": {},
   "source": []
  },
  {
   "cell_type": "markdown",
   "metadata": {},
   "source": [
    "**3. Write a Python Program to Transpose a Matrix?**"
   ]
  },
  {
   "cell_type": "code",
   "execution_count": 10,
   "metadata": {},
   "outputs": [
    {
     "name": "stdout",
     "output_type": "stream",
     "text": [
      "[1, 4, 7]\n",
      "[2, 5, 8]\n",
      "[3, 6, 9]\n"
     ]
    }
   ],
   "source": [
    "A = [[1, 2, 3],\n",
    "    [4 ,5, 6],\n",
    "    [7, 8, 9]]\n",
    "\n",
    "transpose = [[A[i][j] for i in range(len(A))] for j in range(len(A[0]))]\n",
    "\n",
    "for ans in transpose:\n",
    "    print(ans)"
   ]
  },
  {
   "cell_type": "code",
   "execution_count": null,
   "metadata": {},
   "outputs": [],
   "source": []
  },
  {
   "cell_type": "markdown",
   "metadata": {},
   "source": [
    "\n",
    "**4. Write a Python Program to Sort Words in Alphabetic Order?**"
   ]
  },
  {
   "cell_type": "code",
   "execution_count": 12,
   "metadata": {},
   "outputs": [
    {
     "name": "stdout",
     "output_type": "stream",
     "text": [
      "Enter sentenceiNeuron is leading industry in the field of Data Science and Big Data for affordable AI\n",
      "AI Big Data Data Science affordable and field for iNeuron in industry is leading of the "
     ]
    }
   ],
   "source": [
    "def sort_words(string):\n",
    "    words = string.split() \n",
    "    words.sort()  \n",
    "    return words\n",
    "\n",
    "string = input(\"Enter sentence\")\n",
    "result = sort_words(string)  \n",
    "for word in result: \n",
    "    print(word, end=' ')  "
   ]
  },
  {
   "cell_type": "code",
   "execution_count": null,
   "metadata": {},
   "outputs": [],
   "source": []
  },
  {
   "cell_type": "markdown",
   "metadata": {},
   "source": [
    "**5. Write a Python Program to Remove Punctuation From a String?**"
   ]
  },
  {
   "cell_type": "code",
   "execution_count": 24,
   "metadata": {},
   "outputs": [
    {
     "name": "stdout",
     "output_type": "stream",
     "text": [
      "Enter sentence Hi, there; This $% is * Jupyter!@ notebook.\n",
      "Hi there This  is  Jupyter notebook"
     ]
    }
   ],
   "source": [
    "def remove_punctuation(string):\n",
    "    s = ''\n",
    "    for i in string:\n",
    "        if i.isalnum() or i.isspace():\n",
    "            s = s + i\n",
    "    return s\n",
    "\n",
    "string = input(\"Enter sentence \")\n",
    "result = remove_punctuation(string)  \n",
    "for word in result: \n",
    "    print(word, end='') "
   ]
  },
  {
   "cell_type": "code",
   "execution_count": null,
   "metadata": {},
   "outputs": [],
   "source": []
  },
  {
   "cell_type": "code",
   "execution_count": null,
   "metadata": {},
   "outputs": [],
   "source": []
  }
 ],
 "metadata": {
  "kernelspec": {
   "display_name": "Python 3",
   "language": "python",
   "name": "python3"
  },
  "language_info": {
   "codemirror_mode": {
    "name": "ipython",
    "version": 3
   },
   "file_extension": ".py",
   "mimetype": "text/x-python",
   "name": "python",
   "nbconvert_exporter": "python",
   "pygments_lexer": "ipython3",
   "version": "3.8.5"
  }
 },
 "nbformat": 4,
 "nbformat_minor": 4
}
